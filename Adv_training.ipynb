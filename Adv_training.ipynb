{
 "cells": [
  {
   "cell_type": "code",
   "execution_count": 1,
   "metadata": {
    "id": "xwK-Bsi58dNj"
   },
   "outputs": [],
   "source": [
    "import torch\n",
    "import torch.nn as nn\n",
    "import torch.optim as optim\n",
    "from torch import autograd\n",
    "from torch.utils.data import DataLoader\n",
    "from torch.utils.data import Dataset\n",
    "\n",
    "import numpy as np\n",
    "import h5py\n",
    "import matplotlib.pyplot as plt\n",
    "import gc\n",
    "\n",
    "from adv_models import ConvAE, DiscriminateModel\n",
    "from data import PCam_Dataset_local"
   ]
  },
  {
   "cell_type": "code",
   "execution_count": 2,
   "metadata": {},
   "outputs": [],
   "source": [
    "def calc_gradient_penalty(netD, real_data, fake_data, batch_size, dtype, use_cuda=True, gpu=0, LAMBDA=10):\n",
    "\n",
    "    alpha = torch.rand(batch_size, 1)\n",
    "    alpha = alpha.expand(batch_size, int(real_data.nelement()/batch_size)).contiguous().view(batch_size, 3, 48, 48)\n",
    "    alpha = alpha.type(dtype)\n",
    "\n",
    "    interpolates = alpha * real_data + ((1 - alpha) * fake_data)\n",
    "\n",
    "    if use_cuda:\n",
    "        interpolates = interpolates.type(dtype)\n",
    "\n",
    "    interpolates = autograd.Variable(interpolates, requires_grad=True)\n",
    "\n",
    "    disc_interpolates = netD(interpolates)\n",
    "\n",
    "    gradients = autograd.grad(outputs=disc_interpolates, inputs=interpolates,\n",
    "                              grad_outputs=torch.ones(disc_interpolates.size()).type(dtype) if use_cuda else torch.ones(\n",
    "                                  disc_interpolates.size()),\n",
    "                              create_graph=True, retain_graph=True, only_inputs=True)[0]\n",
    "    gradients = gradients.view(gradients.size(0), -1)\n",
    "\n",
    "    gradient_penalty = ((gradients.norm(2, dim=1) - 1) ** 2).mean() * LAMBDA\n",
    "    return gradient_penalty"
   ]
  },
  {
   "cell_type": "code",
   "execution_count": 3,
   "metadata": {
    "id": "LXImZegK9Hq6"
   },
   "outputs": [],
   "source": [
    "def adv_training(G_net, D_net, D_solver, G_solver, N_critic, weight, dtype, part=0, batch_size=32, num_epochs=20, print_every=100):\n",
    "\n",
    "    epoch = 0\n",
    "    G_net.train()\n",
    "    D_net.train()\n",
    "\n",
    "    one = torch.tensor(1, dtype=torch.float)\n",
    "    min_one = one * -1\n",
    "    one = one.type(dtype)\n",
    "    min_one = min_one.type(dtype)\n",
    "\n",
    "    MSELoss = nn.MSELoss()\n",
    "    Wasserstein_D, D_cost, G_cost, rec_loss = 0.0, 0.0, 0.0, 0.0\n",
    "    pcam = PCam_Dataset_local('data.h5', part=-1, download=False, train=True)\n",
    "    loader_train = DataLoader(pcam, batch_size=batch_size, shuffle=True)\n",
    "    \n",
    "    while epoch < num_epochs:\n",
    "\n",
    "        print('Starting epoch %d / %d' % (epoch, num_epochs))\n",
    "        critic_iters = 0\n",
    "  \n",
    "        for iter_, (x, y) in enumerate(loader_train):\n",
    "      \n",
    "            working_size = x.shape[0]\n",
    "            for param in D_net.parameters():\n",
    "                param.requires_grad = True\n",
    "\n",
    "            if critic_iters < N_critic:\n",
    "                D_net.zero_grad()\n",
    "                real_images = autograd.Variable(y.type(dtype))\n",
    "                D_real = D_net(real_images)\n",
    "                D_real = D_real.mean()\n",
    "                D_real.backward(min_one)\n",
    "\n",
    "                cropped_images = autograd.Variable(x.type(dtype))\n",
    "                fake_images = autograd.Variable(G_net(cropped_images).detach())\n",
    "                inp_D = fake_images\n",
    "                D_fake = D_net(inp_D)\n",
    "                D_fake = D_fake.mean()\n",
    "                D_fake.backward(one)\n",
    "\n",
    "                gradient_penalty = calc_gradient_penalty(D_net, real_images.data, fake_images.data, working_size, dtype, use_cuda=True, gpu=0)\n",
    "                gradient_penalty.backward()\n",
    "\n",
    "                D_cost = D_real - D_fake + gradient_penalty\n",
    "                Wasserstein_D = D_real - D_fake\n",
    "                D_solver.step()\n",
    "\n",
    "                critic_iters += 1\n",
    "\n",
    "            else:\n",
    "                for param in D_net.parameters():\n",
    "                    param.requires_grad = False\n",
    "                    \n",
    "                G_net.zero_grad()\n",
    "                cropped_images = autograd.Variable(x.type(dtype))\n",
    "                fake_imgs = G_net(cropped_images)\n",
    "                G_fake = D_net(fake_imgs)\n",
    "                G_fake = G_fake.mean()\n",
    "                G_cost = -G_fake\n",
    "\n",
    "                rec_loss = MSELoss(fake_imgs, y.type(dtype))\n",
    "                total_loss = (1-weight) * rec_loss + weight * G_cost\n",
    "\n",
    "                total_loss.backward(one)\n",
    "                D_solver.step()\n",
    "\n",
    "                critic_iters = 0\n",
    "\n",
    "            if (iter_ % print_every == 0) and iter_ > 0:\n",
    "                print('Iter = {0}, Wasserstein_D = {1}, D_cost = {2}, rec_loss = {3}, G_cost = {4}'\n",
    "                .format(iter_, Wasserstein_D.item(), D_cost.item(), rec_loss.item(), G_cost.item()))\n",
    "\n",
    "        torch.save({\n",
    "          'G': G_net.state_dict(),\n",
    "          'G_opt': G_solver.state_dict(),\n",
    "          'D': D_net.state_dict(),\n",
    "          'D_opt': D_solver.state_dict()\n",
    "          },\n",
    "        'chkpntWES.pt')\n",
    "\n",
    "        epoch += 1\n",
    "\n",
    "    return G_net, D_net"
   ]
  },
  {
   "cell_type": "code",
   "execution_count": 4,
   "metadata": {
    "id": "SvgPOY309SHl"
   },
   "outputs": [],
   "source": [
    "def run_adv(adv_rec_weight, batch_size, chkpnt_file=None):\n",
    "\n",
    "    if torch.cuda.is_available():\n",
    "        gpu_dtype = torch.cuda.FloatTensor\n",
    "    else:\n",
    "        gpu_dtype = torch.FloatTensor\n",
    "\n",
    "    assert torch.cuda.is_available() == True, \"CUDA is not available\"\n",
    "\n",
    "    G_net = ConvAE(3, 3).type(gpu_dtype)\n",
    "    D_net = DiscriminateModel(3, 1).type(gpu_dtype)\n",
    "\n",
    "    optimizerG = optim.Adam(G_net.parameters(), lr=1e-3)\n",
    "    optimizerD = optim.Adam(D_net.parameters(), lr=1e-3)\n",
    "\n",
    "    if chkpnt_file is not None:\n",
    "        saved_dict = torch.load(chkpnt_file)\n",
    "\n",
    "        G_net.load_state_dict(saved_dict['G'])\n",
    "        D_net.load_state_dict(saved_dict['D'])\n",
    "\n",
    "        optimizerG.load_state_dict(saved_dict['G_opt'])\n",
    "        optimizerD.load_state_dict(saved_dict['D_opt'])\n",
    "\n",
    "    #def adv_training(G_net, D_net, D_solver, G_solver, N_critic, weight, dtype, part=0, batch_size=32, num_epochs=20, print_every=100)\n",
    "    gen, dic = adv_training(G_net, D_net, optimizerD, optimizerG, 4, adv_rec_weight, gpu_dtype, part=0, batch_size=batch_size, num_epochs=50, print_every=100)\n",
    "\n",
    "    return gen, dic"
   ]
  },
  {
   "cell_type": "code",
   "execution_count": 5,
   "metadata": {
    "colab": {
     "base_uri": "https://localhost:8080/"
    },
    "id": "X7KoJE5lGjC5",
    "outputId": "fb85bc6d-fce6-44fb-9cd8-5a9c36869ef1"
   },
   "outputs": [
    {
     "ename": "AssertionError",
     "evalue": "CUDA is not available",
     "output_type": "error",
     "traceback": [
      "\u001b[0;31m---------------------------------------------------------------------------\u001b[0m",
      "\u001b[0;31mAssertionError\u001b[0m                            Traceback (most recent call last)",
      "\u001b[0;32m<ipython-input-5-3769b86baa51>\u001b[0m in \u001b[0;36m<module>\u001b[0;34m\u001b[0m\n\u001b[0;32m----> 1\u001b[0;31m \u001b[0mg\u001b[0m\u001b[0;34m,\u001b[0m \u001b[0md\u001b[0m \u001b[0;34m=\u001b[0m \u001b[0mrun_adv\u001b[0m\u001b[0;34m(\u001b[0m\u001b[0;36m0.001\u001b[0m\u001b[0;34m,\u001b[0m \u001b[0;36m32\u001b[0m\u001b[0;34m,\u001b[0m \u001b[0mchkpnt_file\u001b[0m\u001b[0;34m=\u001b[0m\u001b[0;34m'chkpntWES.pt'\u001b[0m\u001b[0;34m)\u001b[0m\u001b[0;34m\u001b[0m\u001b[0;34m\u001b[0m\u001b[0m\n\u001b[0m",
      "\u001b[0;32m<ipython-input-4-4563a4bad423>\u001b[0m in \u001b[0;36mrun_adv\u001b[0;34m(adv_rec_weight, batch_size, chkpnt_file)\u001b[0m\n\u001b[1;32m      6\u001b[0m         \u001b[0mgpu_dtype\u001b[0m \u001b[0;34m=\u001b[0m \u001b[0mtorch\u001b[0m\u001b[0;34m.\u001b[0m\u001b[0mFloatTensor\u001b[0m\u001b[0;34m\u001b[0m\u001b[0;34m\u001b[0m\u001b[0m\n\u001b[1;32m      7\u001b[0m \u001b[0;34m\u001b[0m\u001b[0m\n\u001b[0;32m----> 8\u001b[0;31m     \u001b[0;32massert\u001b[0m \u001b[0mtorch\u001b[0m\u001b[0;34m.\u001b[0m\u001b[0mcuda\u001b[0m\u001b[0;34m.\u001b[0m\u001b[0mis_available\u001b[0m\u001b[0;34m(\u001b[0m\u001b[0;34m)\u001b[0m \u001b[0;34m==\u001b[0m \u001b[0;32mTrue\u001b[0m\u001b[0;34m,\u001b[0m \u001b[0;34m\"CUDA is not available\"\u001b[0m\u001b[0;34m\u001b[0m\u001b[0;34m\u001b[0m\u001b[0m\n\u001b[0m\u001b[1;32m      9\u001b[0m \u001b[0;34m\u001b[0m\u001b[0m\n\u001b[1;32m     10\u001b[0m     \u001b[0mG_net\u001b[0m \u001b[0;34m=\u001b[0m \u001b[0mConvAE\u001b[0m\u001b[0;34m(\u001b[0m\u001b[0;36m3\u001b[0m\u001b[0;34m,\u001b[0m \u001b[0;36m3\u001b[0m\u001b[0;34m)\u001b[0m\u001b[0;34m.\u001b[0m\u001b[0mtype\u001b[0m\u001b[0;34m(\u001b[0m\u001b[0mgpu_dtype\u001b[0m\u001b[0;34m)\u001b[0m\u001b[0;34m\u001b[0m\u001b[0;34m\u001b[0m\u001b[0m\n",
      "\u001b[0;31mAssertionError\u001b[0m: CUDA is not available"
     ]
    }
   ],
   "source": [
    "g, d = run_adv(0.001, 32, chkpnt_file='chkpntWES.pt')"
   ]
  },
  {
   "cell_type": "code",
   "execution_count": null,
   "metadata": {
    "id": "tYBBA057bDxR"
   },
   "outputs": [],
   "source": []
  }
 ],
 "metadata": {
  "accelerator": "GPU",
  "colab": {
   "collapsed_sections": [],
   "name": "Adv_training.ipynb",
   "provenance": []
  },
  "kernelspec": {
   "display_name": "Python 3",
   "language": "python",
   "name": "python3"
  },
  "language_info": {
   "codemirror_mode": {
    "name": "ipython",
    "version": 3
   },
   "file_extension": ".py",
   "mimetype": "text/x-python",
   "name": "python",
   "nbconvert_exporter": "python",
   "pygments_lexer": "ipython3",
   "version": "3.7.6"
  }
 },
 "nbformat": 4,
 "nbformat_minor": 1
}
